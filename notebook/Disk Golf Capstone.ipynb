{
 "cells": [
  {
   "cell_type": "code",
   "execution_count": 1,
   "id": "abf9ce6d",
   "metadata": {
    "collapsed": true
   },
   "outputs": [
    {
     "name": "stdout",
     "output_type": "stream",
     "text": [
      "Requirement already satisfied: jupyterthemes in c:\\users\\micha\\anaconda3\\envs\\geospatial\\lib\\site-packages (0.20.0)\n",
      "Requirement already satisfied: notebook>=5.6.0 in c:\\users\\micha\\anaconda3\\envs\\geospatial\\lib\\site-packages (from jupyterthemes) (6.4.0)\n",
      "Requirement already satisfied: matplotlib>=1.4.3 in c:\\users\\micha\\anaconda3\\envs\\geospatial\\lib\\site-packages (from jupyterthemes) (3.3.1)\n",
      "Requirement already satisfied: lesscpy>=0.11.2 in c:\\users\\micha\\anaconda3\\envs\\geospatial\\lib\\site-packages (from jupyterthemes) (0.15.0)\n",
      "Requirement already satisfied: jupyter-core in c:\\users\\micha\\anaconda3\\envs\\geospatial\\lib\\site-packages (from jupyterthemes) (4.7.1)\n",
      "Requirement already satisfied: ipython>=5.4.1 in c:\\users\\micha\\anaconda3\\envs\\geospatial\\lib\\site-packages (from jupyterthemes) (7.25.0)\n",
      "Requirement already satisfied: jedi>=0.16 in c:\\users\\micha\\anaconda3\\envs\\geospatial\\lib\\site-packages (from ipython>=5.4.1->jupyterthemes) (0.18.0)\n",
      "Requirement already satisfied: decorator in c:\\users\\micha\\anaconda3\\envs\\geospatial\\lib\\site-packages (from ipython>=5.4.1->jupyterthemes) (5.0.9)\n",
      "Requirement already satisfied: pygments in c:\\users\\micha\\anaconda3\\envs\\geospatial\\lib\\site-packages (from ipython>=5.4.1->jupyterthemes) (2.9.0)\n",
      "Requirement already satisfied: prompt-toolkit!=3.0.0,!=3.0.1,<3.1.0,>=2.0.0 in c:\\users\\micha\\anaconda3\\envs\\geospatial\\lib\\site-packages (from ipython>=5.4.1->jupyterthemes) (3.0.19)\n",
      "Requirement already satisfied: backcall in c:\\users\\micha\\anaconda3\\envs\\geospatial\\lib\\site-packages (from ipython>=5.4.1->jupyterthemes) (0.2.0)\n",
      "Requirement already satisfied: matplotlib-inline in c:\\users\\micha\\anaconda3\\envs\\geospatial\\lib\\site-packages (from ipython>=5.4.1->jupyterthemes) (0.1.2)\n",
      "Requirement already satisfied: colorama in c:\\users\\micha\\anaconda3\\envs\\geospatial\\lib\\site-packages (from ipython>=5.4.1->jupyterthemes) (0.4.4)\n",
      "Requirement already satisfied: setuptools>=18.5 in c:\\users\\micha\\anaconda3\\envs\\geospatial\\lib\\site-packages (from ipython>=5.4.1->jupyterthemes) (49.6.0.post20210108)\n",
      "Requirement already satisfied: pickleshare in c:\\users\\micha\\anaconda3\\envs\\geospatial\\lib\\site-packages (from ipython>=5.4.1->jupyterthemes) (0.7.5)\n",
      "Requirement already satisfied: traitlets>=4.2 in c:\\users\\micha\\anaconda3\\envs\\geospatial\\lib\\site-packages (from ipython>=5.4.1->jupyterthemes) (5.0.5)\n",
      "Requirement already satisfied: parso<0.9.0,>=0.8.0 in c:\\users\\micha\\anaconda3\\envs\\geospatial\\lib\\site-packages (from jedi>=0.16->ipython>=5.4.1->jupyterthemes) (0.8.2)\n",
      "Requirement already satisfied: ply in c:\\users\\micha\\anaconda3\\envs\\geospatial\\lib\\site-packages (from lesscpy>=0.11.2->jupyterthemes) (3.11)\n",
      "Requirement already satisfied: six in c:\\users\\micha\\anaconda3\\envs\\geospatial\\lib\\site-packages (from lesscpy>=0.11.2->jupyterthemes) (1.15.0)\n",
      "Requirement already satisfied: numpy>=1.15 in c:\\users\\micha\\anaconda3\\envs\\geospatial\\lib\\site-packages (from matplotlib>=1.4.3->jupyterthemes) (1.21.0)\n",
      "Requirement already satisfied: python-dateutil>=2.1 in c:\\users\\micha\\anaconda3\\envs\\geospatial\\lib\\site-packages (from matplotlib>=1.4.3->jupyterthemes) (2.8.1)\n",
      "Requirement already satisfied: pyparsing!=2.0.4,!=2.1.2,!=2.1.6,>=2.0.3 in c:\\users\\micha\\anaconda3\\envs\\geospatial\\lib\\site-packages (from matplotlib>=1.4.3->jupyterthemes) (2.4.7)\n",
      "Requirement already satisfied: pillow>=6.2.0 in c:\\users\\micha\\anaconda3\\envs\\geospatial\\lib\\site-packages (from matplotlib>=1.4.3->jupyterthemes) (8.2.0)\n",
      "Requirement already satisfied: certifi>=2020.06.20 in c:\\users\\micha\\anaconda3\\envs\\geospatial\\lib\\site-packages (from matplotlib>=1.4.3->jupyterthemes) (2021.5.30)\n",
      "Requirement already satisfied: cycler>=0.10 in c:\\users\\micha\\anaconda3\\envs\\geospatial\\lib\\site-packages (from matplotlib>=1.4.3->jupyterthemes) (0.10.0)\n",
      "Requirement already satisfied: kiwisolver>=1.0.1 in c:\\users\\micha\\anaconda3\\envs\\geospatial\\lib\\site-packages (from matplotlib>=1.4.3->jupyterthemes) (1.3.1)\n",
      "Requirement already satisfied: ipython-genutils in c:\\users\\micha\\anaconda3\\envs\\geospatial\\lib\\site-packages (from notebook>=5.6.0->jupyterthemes) (0.2.0)\n",
      "Requirement already satisfied: ipykernel in c:\\users\\micha\\anaconda3\\envs\\geospatial\\lib\\site-packages (from notebook>=5.6.0->jupyterthemes) (6.0.1)\n",
      "Requirement already satisfied: prometheus-client in c:\\users\\micha\\anaconda3\\envs\\geospatial\\lib\\site-packages (from notebook>=5.6.0->jupyterthemes) (0.11.0)\n",
      "Requirement already satisfied: jinja2 in c:\\users\\micha\\anaconda3\\envs\\geospatial\\lib\\site-packages (from notebook>=5.6.0->jupyterthemes) (3.0.1)\n",
      "Requirement already satisfied: Send2Trash>=1.5.0 in c:\\users\\micha\\anaconda3\\envs\\geospatial\\lib\\site-packages (from notebook>=5.6.0->jupyterthemes) (1.7.1)\n",
      "Requirement already satisfied: terminado>=0.8.3 in c:\\users\\micha\\anaconda3\\envs\\geospatial\\lib\\site-packages (from notebook>=5.6.0->jupyterthemes) (0.10.1)\n",
      "Requirement already satisfied: nbconvert in c:\\users\\micha\\anaconda3\\envs\\geospatial\\lib\\site-packages (from notebook>=5.6.0->jupyterthemes) (6.1.0)\n",
      "Requirement already satisfied: nbformat in c:\\users\\micha\\anaconda3\\envs\\geospatial\\lib\\site-packages (from notebook>=5.6.0->jupyterthemes) (5.1.3)\n",
      "Requirement already satisfied: jupyter-client>=5.3.4 in c:\\users\\micha\\anaconda3\\envs\\geospatial\\lib\\site-packages (from notebook>=5.6.0->jupyterthemes) (6.1.12)\n",
      "Requirement already satisfied: pyzmq>=17 in c:\\users\\micha\\anaconda3\\envs\\geospatial\\lib\\site-packages (from notebook>=5.6.0->jupyterthemes) (22.1.0)\n",
      "Requirement already satisfied: tornado>=6.1 in c:\\users\\micha\\anaconda3\\envs\\geospatial\\lib\\site-packages (from notebook>=5.6.0->jupyterthemes) (6.1)\n",
      "Requirement already satisfied: argon2-cffi in c:\\users\\micha\\anaconda3\\envs\\geospatial\\lib\\site-packages (from notebook>=5.6.0->jupyterthemes) (20.1.0)\n",
      "Requirement already satisfied: pywin32>=1.0 in c:\\users\\micha\\anaconda3\\envs\\geospatial\\lib\\site-packages (from jupyter-core->jupyterthemes) (300)\n",
      "Requirement already satisfied: wcwidth in c:\\users\\micha\\anaconda3\\envs\\geospatial\\lib\\site-packages (from prompt-toolkit!=3.0.0,!=3.0.1,<3.1.0,>=2.0.0->ipython>=5.4.1->jupyterthemes) (0.2.5)\n",
      "Requirement already satisfied: pywinpty>=1.1.0 in c:\\users\\micha\\anaconda3\\envs\\geospatial\\lib\\site-packages (from terminado>=0.8.3->notebook>=5.6.0->jupyterthemes) (1.1.3)\n",
      "Requirement already satisfied: cffi>=1.0.0 in c:\\users\\micha\\anaconda3\\envs\\geospatial\\lib\\site-packages (from argon2-cffi->notebook>=5.6.0->jupyterthemes) (1.14.5)\n",
      "Requirement already satisfied: pycparser in c:\\users\\micha\\anaconda3\\envs\\geospatial\\lib\\site-packages (from cffi>=1.0.0->argon2-cffi->notebook>=5.6.0->jupyterthemes) (2.20)\n",
      "Requirement already satisfied: debugpy>=1.0.0 in c:\\users\\micha\\anaconda3\\envs\\geospatial\\lib\\site-packages (from ipykernel->notebook>=5.6.0->jupyterthemes) (1.3.0)\n",
      "Requirement already satisfied: MarkupSafe>=2.0 in c:\\users\\micha\\anaconda3\\envs\\geospatial\\lib\\site-packages (from jinja2->notebook>=5.6.0->jupyterthemes) (2.0.1)\n",
      "Requirement already satisfied: entrypoints>=0.2.2 in c:\\users\\micha\\anaconda3\\envs\\geospatial\\lib\\site-packages (from nbconvert->notebook>=5.6.0->jupyterthemes) (0.3)\n",
      "Requirement already satisfied: pandocfilters>=1.4.1 in c:\\users\\micha\\anaconda3\\envs\\geospatial\\lib\\site-packages (from nbconvert->notebook>=5.6.0->jupyterthemes) (1.4.2)\n",
      "Requirement already satisfied: nbclient<0.6.0,>=0.5.0 in c:\\users\\micha\\anaconda3\\envs\\geospatial\\lib\\site-packages (from nbconvert->notebook>=5.6.0->jupyterthemes) (0.5.3)\n",
      "Requirement already satisfied: testpath in c:\\users\\micha\\anaconda3\\envs\\geospatial\\lib\\site-packages (from nbconvert->notebook>=5.6.0->jupyterthemes) (0.5.0)\n",
      "Requirement already satisfied: defusedxml in c:\\users\\micha\\anaconda3\\envs\\geospatial\\lib\\site-packages (from nbconvert->notebook>=5.6.0->jupyterthemes) (0.7.1)\n",
      "Requirement already satisfied: mistune<2,>=0.8.1 in c:\\users\\micha\\anaconda3\\envs\\geospatial\\lib\\site-packages (from nbconvert->notebook>=5.6.0->jupyterthemes) (0.8.4)\n",
      "Requirement already satisfied: jupyterlab-pygments in c:\\users\\micha\\anaconda3\\envs\\geospatial\\lib\\site-packages (from nbconvert->notebook>=5.6.0->jupyterthemes) (0.1.2)\n",
      "Requirement already satisfied: bleach in c:\\users\\micha\\anaconda3\\envs\\geospatial\\lib\\site-packages (from nbconvert->notebook>=5.6.0->jupyterthemes) (3.3.0)\n",
      "Requirement already satisfied: nest-asyncio in c:\\users\\micha\\anaconda3\\envs\\geospatial\\lib\\site-packages (from nbclient<0.6.0,>=0.5.0->nbconvert->notebook>=5.6.0->jupyterthemes) (1.5.1)\n",
      "Requirement already satisfied: async-generator in c:\\users\\micha\\anaconda3\\envs\\geospatial\\lib\\site-packages (from nbclient<0.6.0,>=0.5.0->nbconvert->notebook>=5.6.0->jupyterthemes) (1.10)\n",
      "Requirement already satisfied: jsonschema!=2.5.0,>=2.4 in c:\\users\\micha\\anaconda3\\envs\\geospatial\\lib\\site-packages (from nbformat->notebook>=5.6.0->jupyterthemes) (3.2.0)\n",
      "Requirement already satisfied: attrs>=17.4.0 in c:\\users\\micha\\anaconda3\\envs\\geospatial\\lib\\site-packages (from jsonschema!=2.5.0,>=2.4->nbformat->notebook>=5.6.0->jupyterthemes) (21.2.0)\n",
      "Requirement already satisfied: pyrsistent>=0.14.0 in c:\\users\\micha\\anaconda3\\envs\\geospatial\\lib\\site-packages (from jsonschema!=2.5.0,>=2.4->nbformat->notebook>=5.6.0->jupyterthemes) (0.17.3)\n",
      "Requirement already satisfied: webencodings in c:\\users\\micha\\anaconda3\\envs\\geospatial\\lib\\site-packages (from bleach->nbconvert->notebook>=5.6.0->jupyterthemes) (0.5.1)\n",
      "Requirement already satisfied: packaging in c:\\users\\micha\\anaconda3\\envs\\geospatial\\lib\\site-packages (from bleach->nbconvert->notebook>=5.6.0->jupyterthemes) (21.0)\n",
      "Note: you may need to restart the kernel to use updated packages.\n"
     ]
    }
   ],
   "source": [
    "pip install jupyterthemes"
   ]
  },
  {
   "cell_type": "code",
   "execution_count": 2,
   "id": "480c0189",
   "metadata": {
    "collapsed": true
   },
   "outputs": [
    {
     "name": "stdout",
     "output_type": "stream",
     "text": [
      "Requirement already satisfied: jupyterthemes in c:\\users\\micha\\anaconda3\\envs\\geospatial\\lib\\site-packages (0.20.0)\n",
      "Requirement already satisfied: lesscpy>=0.11.2 in c:\\users\\micha\\anaconda3\\envs\\geospatial\\lib\\site-packages (from jupyterthemes) (0.15.0)\n",
      "Requirement already satisfied: jupyter-core in c:\\users\\micha\\anaconda3\\envs\\geospatial\\lib\\site-packages (from jupyterthemes) (4.7.1)\n",
      "Requirement already satisfied: ipython>=5.4.1 in c:\\users\\micha\\anaconda3\\envs\\geospatial\\lib\\site-packages (from jupyterthemes) (7.25.0)\n",
      "Requirement already satisfied: notebook>=5.6.0 in c:\\users\\micha\\anaconda3\\envs\\geospatial\\lib\\site-packages (from jupyterthemes) (6.4.0)\n",
      "Requirement already satisfied: matplotlib>=1.4.3 in c:\\users\\micha\\anaconda3\\envs\\geospatial\\lib\\site-packages (from jupyterthemes) (3.3.1)\n",
      "Requirement already satisfied: colorama in c:\\users\\micha\\anaconda3\\envs\\geospatial\\lib\\site-packages (from ipython>=5.4.1->jupyterthemes) (0.4.4)\n",
      "Requirement already satisfied: pickleshare in c:\\users\\micha\\anaconda3\\envs\\geospatial\\lib\\site-packages (from ipython>=5.4.1->jupyterthemes) (0.7.5)\n",
      "Requirement already satisfied: jedi>=0.16 in c:\\users\\micha\\anaconda3\\envs\\geospatial\\lib\\site-packages (from ipython>=5.4.1->jupyterthemes) (0.18.0)\n",
      "Requirement already satisfied: matplotlib-inline in c:\\users\\micha\\anaconda3\\envs\\geospatial\\lib\\site-packages (from ipython>=5.4.1->jupyterthemes) (0.1.2)\n",
      "Requirement already satisfied: decorator in c:\\users\\micha\\anaconda3\\envs\\geospatial\\lib\\site-packages (from ipython>=5.4.1->jupyterthemes) (5.0.9)\n",
      "Requirement already satisfied: pygments in c:\\users\\micha\\anaconda3\\envs\\geospatial\\lib\\site-packages (from ipython>=5.4.1->jupyterthemes) (2.9.0)\n",
      "Requirement already satisfied: backcall in c:\\users\\micha\\anaconda3\\envs\\geospatial\\lib\\site-packages (from ipython>=5.4.1->jupyterthemes) (0.2.0)\n",
      "Requirement already satisfied: traitlets>=4.2 in c:\\users\\micha\\anaconda3\\envs\\geospatial\\lib\\site-packages (from ipython>=5.4.1->jupyterthemes) (5.0.5)\n",
      "Requirement already satisfied: setuptools>=18.5 in c:\\users\\micha\\anaconda3\\envs\\geospatial\\lib\\site-packages (from ipython>=5.4.1->jupyterthemes) (49.6.0.post20210108)\n",
      "Requirement already satisfied: prompt-toolkit!=3.0.0,!=3.0.1,<3.1.0,>=2.0.0 in c:\\users\\micha\\anaconda3\\envs\\geospatial\\lib\\site-packages (from ipython>=5.4.1->jupyterthemes) (3.0.19)\n",
      "Requirement already satisfied: parso<0.9.0,>=0.8.0 in c:\\users\\micha\\anaconda3\\envs\\geospatial\\lib\\site-packages (from jedi>=0.16->ipython>=5.4.1->jupyterthemes) (0.8.2)\n",
      "Requirement already satisfied: ply in c:\\users\\micha\\anaconda3\\envs\\geospatial\\lib\\site-packages (from lesscpy>=0.11.2->jupyterthemes) (3.11)\n",
      "Requirement already satisfied: six in c:\\users\\micha\\anaconda3\\envs\\geospatial\\lib\\site-packages (from lesscpy>=0.11.2->jupyterthemes) (1.15.0)\n",
      "Requirement already satisfied: pyparsing!=2.0.4,!=2.1.2,!=2.1.6,>=2.0.3 in c:\\users\\micha\\anaconda3\\envs\\geospatial\\lib\\site-packages (from matplotlib>=1.4.3->jupyterthemes) (2.4.7)\n",
      "Requirement already satisfied: certifi>=2020.06.20 in c:\\users\\micha\\anaconda3\\envs\\geospatial\\lib\\site-packages (from matplotlib>=1.4.3->jupyterthemes) (2021.5.30)\n",
      "Requirement already satisfied: kiwisolver>=1.0.1 in c:\\users\\micha\\anaconda3\\envs\\geospatial\\lib\\site-packages (from matplotlib>=1.4.3->jupyterthemes) (1.3.1)\n",
      "Requirement already satisfied: pillow>=6.2.0 in c:\\users\\micha\\anaconda3\\envs\\geospatial\\lib\\site-packages (from matplotlib>=1.4.3->jupyterthemes) (8.2.0)\n",
      "Requirement already satisfied: numpy>=1.15 in c:\\users\\micha\\anaconda3\\envs\\geospatial\\lib\\site-packages (from matplotlib>=1.4.3->jupyterthemes) (1.21.0)\n",
      "Requirement already satisfied: python-dateutil>=2.1 in c:\\users\\micha\\anaconda3\\envs\\geospatial\\lib\\site-packages (from matplotlib>=1.4.3->jupyterthemes) (2.8.1)\n",
      "Requirement already satisfied: cycler>=0.10 in c:\\users\\micha\\anaconda3\\envs\\geospatial\\lib\\site-packages (from matplotlib>=1.4.3->jupyterthemes) (0.10.0)\n",
      "Requirement already satisfied: nbconvert in c:\\users\\micha\\anaconda3\\envs\\geospatial\\lib\\site-packages (from notebook>=5.6.0->jupyterthemes) (6.1.0)\n",
      "Requirement already satisfied: jinja2 in c:\\users\\micha\\anaconda3\\envs\\geospatial\\lib\\site-packages (from notebook>=5.6.0->jupyterthemes) (3.0.1)\n",
      "Requirement already satisfied: terminado>=0.8.3 in c:\\users\\micha\\anaconda3\\envs\\geospatial\\lib\\site-packages (from notebook>=5.6.0->jupyterthemes) (0.10.1)\n",
      "Requirement already satisfied: jupyter-client>=5.3.4 in c:\\users\\micha\\anaconda3\\envs\\geospatial\\lib\\site-packages (from notebook>=5.6.0->jupyterthemes) (6.1.12)\n",
      "Requirement already satisfied: nbformat in c:\\users\\micha\\anaconda3\\envs\\geospatial\\lib\\site-packages (from notebook>=5.6.0->jupyterthemes) (5.1.3)\n",
      "Requirement already satisfied: prometheus-client in c:\\users\\micha\\anaconda3\\envs\\geospatial\\lib\\site-packages (from notebook>=5.6.0->jupyterthemes) (0.11.0)\n",
      "Requirement already satisfied: tornado>=6.1 in c:\\users\\micha\\anaconda3\\envs\\geospatial\\lib\\site-packages (from notebook>=5.6.0->jupyterthemes) (6.1)\n",
      "Requirement already satisfied: pyzmq>=17 in c:\\users\\micha\\anaconda3\\envs\\geospatial\\lib\\site-packages (from notebook>=5.6.0->jupyterthemes) (22.1.0)\n",
      "Requirement already satisfied: ipykernel in c:\\users\\micha\\anaconda3\\envs\\geospatial\\lib\\site-packages (from notebook>=5.6.0->jupyterthemes) (6.0.1)\n",
      "Requirement already satisfied: ipython-genutils in c:\\users\\micha\\anaconda3\\envs\\geospatial\\lib\\site-packages (from notebook>=5.6.0->jupyterthemes) (0.2.0)\n",
      "Requirement already satisfied: Send2Trash>=1.5.0 in c:\\users\\micha\\anaconda3\\envs\\geospatial\\lib\\site-packages (from notebook>=5.6.0->jupyterthemes) (1.7.1)\n",
      "Requirement already satisfied: argon2-cffi in c:\\users\\micha\\anaconda3\\envs\\geospatial\\lib\\site-packages (from notebook>=5.6.0->jupyterthemes) (20.1.0)\n",
      "Requirement already satisfied: pywin32>=1.0 in c:\\users\\micha\\anaconda3\\envs\\geospatial\\lib\\site-packages (from jupyter-core->jupyterthemes) (300)\n",
      "Requirement already satisfied: wcwidth in c:\\users\\micha\\anaconda3\\envs\\geospatial\\lib\\site-packages (from prompt-toolkit!=3.0.0,!=3.0.1,<3.1.0,>=2.0.0->ipython>=5.4.1->jupyterthemes) (0.2.5)\n",
      "Requirement already satisfied: pywinpty>=1.1.0 in c:\\users\\micha\\anaconda3\\envs\\geospatial\\lib\\site-packages (from terminado>=0.8.3->notebook>=5.6.0->jupyterthemes) (1.1.3)\n",
      "Requirement already satisfied: cffi>=1.0.0 in c:\\users\\micha\\anaconda3\\envs\\geospatial\\lib\\site-packages (from argon2-cffi->notebook>=5.6.0->jupyterthemes) (1.14.5)\n",
      "Requirement already satisfied: pycparser in c:\\users\\micha\\anaconda3\\envs\\geospatial\\lib\\site-packages (from cffi>=1.0.0->argon2-cffi->notebook>=5.6.0->jupyterthemes) (2.20)\n",
      "Requirement already satisfied: debugpy>=1.0.0 in c:\\users\\micha\\anaconda3\\envs\\geospatial\\lib\\site-packages (from ipykernel->notebook>=5.6.0->jupyterthemes) (1.3.0)\n",
      "Requirement already satisfied: MarkupSafe>=2.0 in c:\\users\\micha\\anaconda3\\envs\\geospatial\\lib\\site-packages (from jinja2->notebook>=5.6.0->jupyterthemes) (2.0.1)\n",
      "Requirement already satisfied: bleach in c:\\users\\micha\\anaconda3\\envs\\geospatial\\lib\\site-packages (from nbconvert->notebook>=5.6.0->jupyterthemes) (3.3.0)\n",
      "Requirement already satisfied: testpath in c:\\users\\micha\\anaconda3\\envs\\geospatial\\lib\\site-packages (from nbconvert->notebook>=5.6.0->jupyterthemes) (0.5.0)\n",
      "Requirement already satisfied: defusedxml in c:\\users\\micha\\anaconda3\\envs\\geospatial\\lib\\site-packages (from nbconvert->notebook>=5.6.0->jupyterthemes) (0.7.1)\n",
      "Requirement already satisfied: nbclient<0.6.0,>=0.5.0 in c:\\users\\micha\\anaconda3\\envs\\geospatial\\lib\\site-packages (from nbconvert->notebook>=5.6.0->jupyterthemes) (0.5.3)\n",
      "Requirement already satisfied: entrypoints>=0.2.2 in c:\\users\\micha\\anaconda3\\envs\\geospatial\\lib\\site-packages (from nbconvert->notebook>=5.6.0->jupyterthemes) (0.3)\n",
      "Requirement already satisfied: mistune<2,>=0.8.1 in c:\\users\\micha\\anaconda3\\envs\\geospatial\\lib\\site-packages (from nbconvert->notebook>=5.6.0->jupyterthemes) (0.8.4)\n",
      "Requirement already satisfied: pandocfilters>=1.4.1 in c:\\users\\micha\\anaconda3\\envs\\geospatial\\lib\\site-packages (from nbconvert->notebook>=5.6.0->jupyterthemes) (1.4.2)\n",
      "Requirement already satisfied: jupyterlab-pygments in c:\\users\\micha\\anaconda3\\envs\\geospatial\\lib\\site-packages (from nbconvert->notebook>=5.6.0->jupyterthemes) (0.1.2)\n",
      "Requirement already satisfied: async-generator in c:\\users\\micha\\anaconda3\\envs\\geospatial\\lib\\site-packages (from nbclient<0.6.0,>=0.5.0->nbconvert->notebook>=5.6.0->jupyterthemes) (1.10)\n",
      "Requirement already satisfied: nest-asyncio in c:\\users\\micha\\anaconda3\\envs\\geospatial\\lib\\site-packages (from nbclient<0.6.0,>=0.5.0->nbconvert->notebook>=5.6.0->jupyterthemes) (1.5.1)\n",
      "Requirement already satisfied: jsonschema!=2.5.0,>=2.4 in c:\\users\\micha\\anaconda3\\envs\\geospatial\\lib\\site-packages (from nbformat->notebook>=5.6.0->jupyterthemes) (3.2.0)\n",
      "Requirement already satisfied: pyrsistent>=0.14.0 in c:\\users\\micha\\anaconda3\\envs\\geospatial\\lib\\site-packages (from jsonschema!=2.5.0,>=2.4->nbformat->notebook>=5.6.0->jupyterthemes) (0.17.3)\n",
      "Requirement already satisfied: attrs>=17.4.0 in c:\\users\\micha\\anaconda3\\envs\\geospatial\\lib\\site-packages (from jsonschema!=2.5.0,>=2.4->nbformat->notebook>=5.6.0->jupyterthemes) (21.2.0)\n",
      "Requirement already satisfied: packaging in c:\\users\\micha\\anaconda3\\envs\\geospatial\\lib\\site-packages (from bleach->nbconvert->notebook>=5.6.0->jupyterthemes) (21.0)\n",
      "Requirement already satisfied: webencodings in c:\\users\\micha\\anaconda3\\envs\\geospatial\\lib\\site-packages (from bleach->nbconvert->notebook>=5.6.0->jupyterthemes) (0.5.1)\n",
      "Note: you may need to restart the kernel to use updated packages.\n"
     ]
    }
   ],
   "source": [
    "pip install --upgrade jupyterthemes"
   ]
  },
  {
   "cell_type": "code",
   "execution_count": 3,
   "id": "df76bb9b",
   "metadata": {
    "collapsed": true
   },
   "outputs": [
    {
     "name": "stdout",
     "output_type": "stream",
     "text": [
      "Available Themes: \n",
      "   chesterish\n",
      "   grade3\n",
      "   gruvboxd\n",
      "   gruvboxl\n",
      "   monokai\n",
      "   oceans16\n",
      "   onedork\n",
      "   solarizedd\n",
      "   solarizedl\n"
     ]
    }
   ],
   "source": [
    "!jt -l"
   ]
  },
  {
   "cell_type": "code",
   "execution_count": 4,
   "id": "c9f07d72",
   "metadata": {},
   "outputs": [],
   "source": [
    "!jt -t chesterish -f inputmono -fs 11 -nf opensans -ofs 10 -altmd -altout -cellw 92%  -T -N -kl"
   ]
  },
  {
   "cell_type": "code",
   "execution_count": 5,
   "id": "db3dccb7",
   "metadata": {},
   "outputs": [],
   "source": [
    "from jupyterthemes import jtplot\n",
    "jtplot.style()"
   ]
  },
  {
   "cell_type": "code",
   "execution_count": 8,
   "id": "ead99880",
   "metadata": {},
   "outputs": [],
   "source": [
    "import requests\n",
    "import pandas as pd\n",
    "import geopandas as gpd\n",
    "import matplotlib.pyplot as plt\n",
    "import folium\n",
    "import requests\n",
    "import shapely\n",
    "from folium.plugins import MarkerCluster\n",
    "from folium.plugins import FastMarkerCluster\n",
    "from shapely.geometry import Point\n",
    "from pandas.io.json import json_normalize\n",
    "\n",
    "\n",
    "%matplotlib inline"
   ]
  },
  {
   "cell_type": "code",
   "execution_count": null,
   "id": "b90c715f",
   "metadata": {},
   "outputs": [],
   "source": [
    "courses = pd.read_csv('../data/course_df.csv')\n",
    "courses"
   ]
  },
  {
   "cell_type": "code",
   "execution_count": null,
   "id": "6276f369",
   "metadata": {},
   "outputs": [],
   "source": [
    "courses = gpd.GeoDataFrame(\n",
    "    courses, geometry=gpd.points_from_xy(courses.longitude, courses.latitude))"
   ]
  },
  {
   "cell_type": "code",
   "execution_count": null,
   "id": "3a926957",
   "metadata": {},
   "outputs": [],
   "source": [
    "courses"
   ]
  },
  {
   "cell_type": "code",
   "execution_count": null,
   "id": "7cd71e4c",
   "metadata": {},
   "outputs": [],
   "source": [
    "courses.crs = \"EPSG:4326\""
   ]
  },
  {
   "cell_type": "code",
   "execution_count": null,
   "id": "39402c5b",
   "metadata": {},
   "outputs": [],
   "source": [
    "count_by_zipcodes = courses['postal_code'].value_counts()"
   ]
  },
  {
   "cell_type": "code",
   "execution_count": null,
   "id": "2868bfe4",
   "metadata": {},
   "outputs": [],
   "source": [
    "courses.loc[0:7094, 'geometry']"
   ]
  },
  {
   "cell_type": "code",
   "execution_count": null,
   "id": "a9e3a4cf",
   "metadata": {},
   "outputs": [],
   "source": [
    "courses.plot()"
   ]
  },
  {
   "cell_type": "code",
   "execution_count": null,
   "id": "aeab4130",
   "metadata": {},
   "outputs": [],
   "source": [
    "courses.geometry.centroid"
   ]
  },
  {
   "cell_type": "code",
   "execution_count": null,
   "id": "19f7fce9",
   "metadata": {},
   "outputs": [],
   "source": [
    "center = courses.geometry.centroid[2281]\n",
    "print(center)"
   ]
  },
  {
   "cell_type": "code",
   "execution_count": null,
   "id": "13576540",
   "metadata": {},
   "outputs": [],
   "source": [
    "area_center = [center.y, center.x]\n",
    "print(area_center)"
   ]
  },
  {
   "cell_type": "code",
   "execution_count": null,
   "id": "16673f23",
   "metadata": {
    "scrolled": true
   },
   "outputs": [],
   "source": [
    "center_point = folium.Map(location =  area_center, zoom_start = 12)\n",
    "center_point"
   ]
  },
  {
   "cell_type": "code",
   "execution_count": null,
   "id": "930ac046",
   "metadata": {},
   "outputs": [],
   "source": [
    "i = 0\n",
    "for row_index, row_values in courses.iterrows():\n",
    "    if i <3: \n",
    "        print('index is', row_index)\n",
    "        print('values are:')\n",
    "        print(' ')\n",
    "        print(row_values)\n",
    "        print('------------------------- ')\n",
    "        i+=1"
   ]
  },
  {
   "cell_type": "code",
   "execution_count": null,
   "id": "5a70842b",
   "metadata": {
    "scrolled": true
   },
   "outputs": [],
   "source": [
    "center_point = folium.Map(location =  area_center, zoom_start = 12)\n",
    "\n",
    "folium.GeoJson(courses).add_to(center_point)\n",
    "\n",
    "#iterate through stops_in_37207 to create locations and markers \n",
    "#for each bus stop\n",
    "#remember for Folium locations, lat is listed first!!\n",
    "\n",
    "for row_index, row_values in courses.iterrows():\n",
    "    loc = [row_values['latitude'], row_values['longitude']]\n",
    "    pop = str(row_values['course_id'])\n",
    "    icon=folium.Icon(color=\"blue\",icon=\"bus\", prefix='fa')\n",
    "    \n",
    "    marker = folium.Marker(\n",
    "        location = loc, \n",
    "        popup = pop, icon = icon) \n",
    "\n",
    "    marker.add_to(center_point)\n",
    "center_point.save('../data/center_point.html')\n",
    "\n",
    "#display our map\n",
    "center_point"
   ]
  },
  {
   "cell_type": "code",
   "execution_count": null,
   "id": "2b7eb4bf",
   "metadata": {},
   "outputs": [],
   "source": [
    "cluster_map = folium.Map(location =  area_center, zoom_start = 12)\n",
    "\n",
    "#create a marker cluster\n",
    "marker_cluster = MarkerCluster().add_to(cluster_map)\n",
    "\n",
    "folium.GeoJson(courses).add_to(cluster_map)\n",
    "\n",
    "# inside the loop add each marker to the cluster\n",
    "for row_index, row_values in courses.iterrows():\n",
    "    loc = [row_values['latitude'], row_values['longitude']]\n",
    "    pop = str(row_values['course_id'])\n",
    "    icon=folium.Icon(color=\"green\",icon=\"compact-disc\", prefix='fa')\n",
    "    \n",
    "    marker = folium.Marker(\n",
    "        location = loc, \n",
    "        popup = pop,\n",
    "    icon = icon) \n",
    "    \n",
    "    marker.add_to(marker_cluster)\n",
    "\n",
    "    \n",
    "#save an interactive HTML map by calling .save()\n",
    "cluster_map.save('../data/cluster37207.html')\n",
    "\n",
    "cluster_map "
   ]
  },
  {
   "cell_type": "code",
   "execution_count": null,
   "id": "9f0f12f4",
   "metadata": {},
   "outputs": [],
   "source": []
  }
 ],
 "metadata": {
  "kernelspec": {
   "display_name": "Python 3 (ipykernel)",
   "language": "python",
   "name": "python3"
  },
  "language_info": {
   "codemirror_mode": {
    "name": "ipython",
    "version": 3
   },
   "file_extension": ".py",
   "mimetype": "text/x-python",
   "name": "python",
   "nbconvert_exporter": "python",
   "pygments_lexer": "ipython3",
   "version": "3.8.5"
  }
 },
 "nbformat": 4,
 "nbformat_minor": 5
}
