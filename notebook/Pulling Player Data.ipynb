{
 "cells": [
  {
   "cell_type": "code",
   "execution_count": 1,
   "metadata": {},
   "outputs": [],
   "source": [
    "import requests\n",
    "import pandas as pd\n",
    "import geopandas as gpd\n",
    "import matplotlib.pyplot as plt\n",
    "import folium\n",
    "from folium.plugins import MarkerCluster\n",
    "from folium.plugins import FastMarkerCluster\n",
    "from shapely.geometry import Point\n",
    "from pandas.io.json import json_normalize\n",
    "\n",
    "%matplotlib inline"
   ]
  },
  {
   "cell_type": "code",
   "execution_count": 2,
   "metadata": {},
   "outputs": [],
   "source": [
    "endpoint_1 = 'https://api.pdga.com/services/json/user/login'"
   ]
  },
  {
   "cell_type": "code",
   "execution_count": 3,
   "metadata": {},
   "outputs": [],
   "source": [
    "params = {'username':'nightop','password':'Sayin91!'}"
   ]
  },
  {
   "cell_type": "code",
   "execution_count": 4,
   "metadata": {},
   "outputs": [],
   "source": [
    "response = requests.post(endpoint_1, data = params)"
   ]
  },
  {
   "cell_type": "code",
   "execution_count": 5,
   "metadata": {},
   "outputs": [
    {
     "data": {
      "text/plain": [
       "<Response [200]>"
      ]
     },
     "execution_count": 5,
     "metadata": {},
     "output_type": "execute_result"
    }
   ],
   "source": [
    "response"
   ]
  },
  {
   "cell_type": "code",
   "execution_count": 6,
   "metadata": {},
   "outputs": [],
   "source": [
    "res = response.json()"
   ]
  },
  {
   "cell_type": "code",
   "execution_count": 7,
   "metadata": {
    "scrolled": true
   },
   "outputs": [
    {
     "name": "stdout",
     "output_type": "stream",
     "text": [
      "{'sessid': '8bEobEcnuJ0HnFk9wkehEwTbzzaNmowSBTcKy8MpiNA', 'session_name': 'SSESSf1f85588bb869a1781d21eec9fef1bff', 'token': 'dvUb1-DCOikQO-Kg51hfxSBV1KiS9JUe8lrwpY9tLd0', 'user': {'name': 'Nightop', 'mail': 'michaelm9124@yahoo.com', 'roles': {'2': 'authenticated user', '8': 'authorized developer'}}}\n"
     ]
    }
   ],
   "source": [
    "print(res)"
   ]
  },
  {
   "cell_type": "code",
   "execution_count": 8,
   "metadata": {},
   "outputs": [],
   "source": [
    "endpoint_2 = 'https://api.pdga.com/services/json/players'"
   ]
  },
  {
   "cell_type": "code",
   "execution_count": 17,
   "metadata": {},
   "outputs": [],
   "source": [
    "headers = {'Cookie':'SSESSf1f85588bb869a1781d21eec9fef1bff=8bEobEcnuJ0HnFk9wkehEwTbzzaNmowSBTcKy8MpiNA'}"
   ]
  },
  {
   "cell_type": "code",
   "execution_count": 18,
   "metadata": {},
   "outputs": [],
   "source": [
    "params = {'pdga_number':[1]}"
   ]
  },
  {
   "cell_type": "code",
   "execution_count": 19,
   "metadata": {},
   "outputs": [],
   "source": [
    "for i in range(1,5):\n",
    "\n",
    "    website_url = 'https://www.pdga.com/players' + str(i)\n",
    "    response = requests.get(website_url)"
   ]
  },
  {
   "cell_type": "code",
   "execution_count": 20,
   "metadata": {},
   "outputs": [],
   "source": [
    "response = requests.get(endpoint_2, headers = headers, params = params)"
   ]
  },
  {
   "cell_type": "code",
   "execution_count": 21,
   "metadata": {},
   "outputs": [
    {
     "data": {
      "text/plain": [
       "<Response [200]>"
      ]
     },
     "execution_count": 21,
     "metadata": {},
     "output_type": "execute_result"
    }
   ],
   "source": [
    "response"
   ]
  },
  {
   "cell_type": "code",
   "execution_count": 22,
   "metadata": {},
   "outputs": [],
   "source": [
    "res = response.json()"
   ]
  },
  {
   "cell_type": "code",
   "execution_count": 23,
   "metadata": {},
   "outputs": [
    {
     "name": "stdout",
     "output_type": "stream",
     "text": [
      "{'sessid': '8bEobEcnuJ0HnFk9wkehEwTbzzaNmowSBTcKy8MpiNA', 'status': 0, 'players': [{'first_name': 'Steady Ed', 'last_name': 'Headrick', 'pdga_number': '1', 'membership_status': 'current', 'membership_expiration_date': '2200-12-31', 'classification': 'P', 'city': 'Watsonville', 'state_prov': 'CA', 'country': 'US', 'rating': None, 'rating_effective_date': None, 'official_status': 'no', 'official_expiration_date': None, 'last_modified': '2016-11-15'}]}\n"
     ]
    }
   ],
   "source": [
    "print(res)"
   ]
  },
  {
   "cell_type": "code",
   "execution_count": 24,
   "metadata": {},
   "outputs": [
    {
     "data": {
      "text/html": [
       "<div>\n",
       "<style scoped>\n",
       "    .dataframe tbody tr th:only-of-type {\n",
       "        vertical-align: middle;\n",
       "    }\n",
       "\n",
       "    .dataframe tbody tr th {\n",
       "        vertical-align: top;\n",
       "    }\n",
       "\n",
       "    .dataframe thead th {\n",
       "        text-align: right;\n",
       "    }\n",
       "</style>\n",
       "<table border=\"1\" class=\"dataframe\">\n",
       "  <thead>\n",
       "    <tr style=\"text-align: right;\">\n",
       "      <th></th>\n",
       "      <th>first_name</th>\n",
       "      <th>last_name</th>\n",
       "      <th>pdga_number</th>\n",
       "      <th>membership_status</th>\n",
       "      <th>membership_expiration_date</th>\n",
       "      <th>classification</th>\n",
       "      <th>city</th>\n",
       "      <th>state_prov</th>\n",
       "      <th>country</th>\n",
       "      <th>rating</th>\n",
       "      <th>rating_effective_date</th>\n",
       "      <th>official_status</th>\n",
       "      <th>official_expiration_date</th>\n",
       "      <th>last_modified</th>\n",
       "    </tr>\n",
       "  </thead>\n",
       "  <tbody>\n",
       "    <tr>\n",
       "      <th>0</th>\n",
       "      <td>Steady Ed</td>\n",
       "      <td>Headrick</td>\n",
       "      <td>1</td>\n",
       "      <td>current</td>\n",
       "      <td>2200-12-31</td>\n",
       "      <td>P</td>\n",
       "      <td>Watsonville</td>\n",
       "      <td>CA</td>\n",
       "      <td>US</td>\n",
       "      <td>None</td>\n",
       "      <td>None</td>\n",
       "      <td>no</td>\n",
       "      <td>None</td>\n",
       "      <td>2016-11-15</td>\n",
       "    </tr>\n",
       "  </tbody>\n",
       "</table>\n",
       "</div>"
      ],
      "text/plain": [
       "  first_name last_name pdga_number membership_status  \\\n",
       "0  Steady Ed  Headrick           1           current   \n",
       "\n",
       "  membership_expiration_date classification         city state_prov country  \\\n",
       "0                 2200-12-31              P  Watsonville         CA      US   \n",
       "\n",
       "  rating rating_effective_date official_status official_expiration_date  \\\n",
       "0   None                  None              no                     None   \n",
       "\n",
       "  last_modified  \n",
       "0    2016-11-15  "
      ]
     },
     "execution_count": 24,
     "metadata": {},
     "output_type": "execute_result"
    }
   ],
   "source": [
    "df = pd.json_normalize(res['players'])\n",
    "df"
   ]
  },
  {
   "cell_type": "code",
   "execution_count": 25,
   "metadata": {},
   "outputs": [
    {
     "data": {
      "text/html": [
       "<div>\n",
       "<style scoped>\n",
       "    .dataframe tbody tr th:only-of-type {\n",
       "        vertical-align: middle;\n",
       "    }\n",
       "\n",
       "    .dataframe tbody tr th {\n",
       "        vertical-align: top;\n",
       "    }\n",
       "\n",
       "    .dataframe thead th {\n",
       "        text-align: right;\n",
       "    }\n",
       "</style>\n",
       "<table border=\"1\" class=\"dataframe\">\n",
       "  <thead>\n",
       "    <tr style=\"text-align: right;\">\n",
       "      <th></th>\n",
       "      <th>first_name</th>\n",
       "      <th>last_name</th>\n",
       "      <th>pdga_number</th>\n",
       "      <th>membership_status</th>\n",
       "      <th>membership_expiration_date</th>\n",
       "      <th>classification</th>\n",
       "      <th>city</th>\n",
       "      <th>state_prov</th>\n",
       "      <th>country</th>\n",
       "      <th>rating</th>\n",
       "      <th>rating_effective_date</th>\n",
       "      <th>official_status</th>\n",
       "      <th>official_expiration_date</th>\n",
       "      <th>last_modified</th>\n",
       "    </tr>\n",
       "  </thead>\n",
       "  <tbody>\n",
       "    <tr>\n",
       "      <th>0</th>\n",
       "      <td>Steady Ed</td>\n",
       "      <td>Headrick</td>\n",
       "      <td>1</td>\n",
       "      <td>current</td>\n",
       "      <td>2200-12-31</td>\n",
       "      <td>P</td>\n",
       "      <td>Watsonville</td>\n",
       "      <td>CA</td>\n",
       "      <td>US</td>\n",
       "      <td>None</td>\n",
       "      <td>None</td>\n",
       "      <td>no</td>\n",
       "      <td>None</td>\n",
       "      <td>2016-11-15</td>\n",
       "    </tr>\n",
       "    <tr>\n",
       "      <th>1</th>\n",
       "      <td>Victor</td>\n",
       "      <td>Malafronte</td>\n",
       "      <td>2</td>\n",
       "      <td>expired</td>\n",
       "      <td>1999-12-31</td>\n",
       "      <td>P</td>\n",
       "      <td>Oceanside</td>\n",
       "      <td>CA</td>\n",
       "      <td>US</td>\n",
       "      <td>None</td>\n",
       "      <td>None</td>\n",
       "      <td>no</td>\n",
       "      <td>None</td>\n",
       "      <td>2005-04-21</td>\n",
       "    </tr>\n",
       "    <tr>\n",
       "      <th>2</th>\n",
       "      <td>Dan Stork</td>\n",
       "      <td>Roddick</td>\n",
       "      <td>3</td>\n",
       "      <td>current</td>\n",
       "      <td>2112-12-31</td>\n",
       "      <td>P</td>\n",
       "      <td>Pasadena</td>\n",
       "      <td>CA</td>\n",
       "      <td>US</td>\n",
       "      <td>809</td>\n",
       "      <td>2021-05-11</td>\n",
       "      <td>yes</td>\n",
       "      <td>2021-12-30</td>\n",
       "      <td>2020-09-16</td>\n",
       "    </tr>\n",
       "    <tr>\n",
       "      <th>3</th>\n",
       "      <td>Jo</td>\n",
       "      <td>Cahow</td>\n",
       "      <td>4</td>\n",
       "      <td>expired</td>\n",
       "      <td>1987-12-31</td>\n",
       "      <td>None</td>\n",
       "      <td>Carpinterla</td>\n",
       "      <td>CA</td>\n",
       "      <td>US</td>\n",
       "      <td>None</td>\n",
       "      <td>None</td>\n",
       "      <td>no</td>\n",
       "      <td>None</td>\n",
       "      <td>2017-08-09</td>\n",
       "    </tr>\n",
       "    <tr>\n",
       "      <th>4</th>\n",
       "      <td>John</td>\n",
       "      <td>Mortimer</td>\n",
       "      <td>5</td>\n",
       "      <td>expired</td>\n",
       "      <td>1987-12-31</td>\n",
       "      <td>None</td>\n",
       "      <td>Berkeley</td>\n",
       "      <td>CA</td>\n",
       "      <td>US</td>\n",
       "      <td>None</td>\n",
       "      <td>None</td>\n",
       "      <td>no</td>\n",
       "      <td>None</td>\n",
       "      <td>2007-05-04</td>\n",
       "    </tr>\n",
       "    <tr>\n",
       "      <th>...</th>\n",
       "      <td>...</td>\n",
       "      <td>...</td>\n",
       "      <td>...</td>\n",
       "      <td>...</td>\n",
       "      <td>...</td>\n",
       "      <td>...</td>\n",
       "      <td>...</td>\n",
       "      <td>...</td>\n",
       "      <td>...</td>\n",
       "      <td>...</td>\n",
       "      <td>...</td>\n",
       "      <td>...</td>\n",
       "      <td>...</td>\n",
       "      <td>...</td>\n",
       "    </tr>\n",
       "    <tr>\n",
       "      <th>195</th>\n",
       "      <td>Matthew</td>\n",
       "      <td>Switzler</td>\n",
       "      <td>187831</td>\n",
       "      <td>current</td>\n",
       "      <td>2021-12-31</td>\n",
       "      <td>A</td>\n",
       "      <td>Verona</td>\n",
       "      <td>WI</td>\n",
       "      <td>US</td>\n",
       "      <td>None</td>\n",
       "      <td>None</td>\n",
       "      <td>no</td>\n",
       "      <td>None</td>\n",
       "      <td>2021-08-08</td>\n",
       "    </tr>\n",
       "    <tr>\n",
       "      <th>196</th>\n",
       "      <td>Nico</td>\n",
       "      <td>Marvin</td>\n",
       "      <td>187832</td>\n",
       "      <td>current</td>\n",
       "      <td>2021-12-31</td>\n",
       "      <td>A</td>\n",
       "      <td>Fairfax</td>\n",
       "      <td>VA</td>\n",
       "      <td>US</td>\n",
       "      <td>None</td>\n",
       "      <td>None</td>\n",
       "      <td>no</td>\n",
       "      <td>None</td>\n",
       "      <td>2021-08-08</td>\n",
       "    </tr>\n",
       "    <tr>\n",
       "      <th>197</th>\n",
       "      <td>Evan</td>\n",
       "      <td>Bennett</td>\n",
       "      <td>187834</td>\n",
       "      <td>current</td>\n",
       "      <td>2022-12-31</td>\n",
       "      <td>A</td>\n",
       "      <td>Aptos</td>\n",
       "      <td>CA</td>\n",
       "      <td>US</td>\n",
       "      <td>None</td>\n",
       "      <td>None</td>\n",
       "      <td>no</td>\n",
       "      <td>None</td>\n",
       "      <td>2021-08-08</td>\n",
       "    </tr>\n",
       "    <tr>\n",
       "      <th>198</th>\n",
       "      <td>Michael</td>\n",
       "      <td>Knape</td>\n",
       "      <td>187835</td>\n",
       "      <td>current</td>\n",
       "      <td>2021-12-31</td>\n",
       "      <td>A</td>\n",
       "      <td>Augusta</td>\n",
       "      <td>GA</td>\n",
       "      <td>US</td>\n",
       "      <td>None</td>\n",
       "      <td>None</td>\n",
       "      <td>no</td>\n",
       "      <td>None</td>\n",
       "      <td>2021-08-08</td>\n",
       "    </tr>\n",
       "    <tr>\n",
       "      <th>199</th>\n",
       "      <td>Travis</td>\n",
       "      <td>Gress</td>\n",
       "      <td>187836</td>\n",
       "      <td>current</td>\n",
       "      <td>2022-12-31</td>\n",
       "      <td>A</td>\n",
       "      <td>Indianapolis</td>\n",
       "      <td>IN</td>\n",
       "      <td>US</td>\n",
       "      <td>None</td>\n",
       "      <td>None</td>\n",
       "      <td>no</td>\n",
       "      <td>None</td>\n",
       "      <td>2021-08-08</td>\n",
       "    </tr>\n",
       "  </tbody>\n",
       "</table>\n",
       "<p>156400 rows × 14 columns</p>\n",
       "</div>"
      ],
      "text/plain": [
       "    first_name   last_name pdga_number membership_status  \\\n",
       "0    Steady Ed    Headrick           1           current   \n",
       "1       Victor  Malafronte           2           expired   \n",
       "2    Dan Stork     Roddick           3           current   \n",
       "3           Jo       Cahow           4           expired   \n",
       "4         John    Mortimer           5           expired   \n",
       "..         ...         ...         ...               ...   \n",
       "195    Matthew    Switzler      187831           current   \n",
       "196       Nico      Marvin      187832           current   \n",
       "197       Evan     Bennett      187834           current   \n",
       "198    Michael       Knape      187835           current   \n",
       "199     Travis       Gress      187836           current   \n",
       "\n",
       "    membership_expiration_date classification          city state_prov  \\\n",
       "0                   2200-12-31              P   Watsonville         CA   \n",
       "1                   1999-12-31              P     Oceanside         CA   \n",
       "2                   2112-12-31              P      Pasadena         CA   \n",
       "3                   1987-12-31           None   Carpinterla         CA   \n",
       "4                   1987-12-31           None      Berkeley         CA   \n",
       "..                         ...            ...           ...        ...   \n",
       "195                 2021-12-31              A        Verona         WI   \n",
       "196                 2021-12-31              A       Fairfax         VA   \n",
       "197                 2022-12-31              A         Aptos         CA   \n",
       "198                 2021-12-31              A       Augusta         GA   \n",
       "199                 2022-12-31              A  Indianapolis         IN   \n",
       "\n",
       "    country rating rating_effective_date official_status  \\\n",
       "0        US   None                  None              no   \n",
       "1        US   None                  None              no   \n",
       "2        US    809            2021-05-11             yes   \n",
       "3        US   None                  None              no   \n",
       "4        US   None                  None              no   \n",
       "..      ...    ...                   ...             ...   \n",
       "195      US   None                  None              no   \n",
       "196      US   None                  None              no   \n",
       "197      US   None                  None              no   \n",
       "198      US   None                  None              no   \n",
       "199      US   None                  None              no   \n",
       "\n",
       "    official_expiration_date last_modified  \n",
       "0                       None    2016-11-15  \n",
       "1                       None    2005-04-21  \n",
       "2                 2021-12-30    2020-09-16  \n",
       "3                       None    2017-08-09  \n",
       "4                       None    2007-05-04  \n",
       "..                       ...           ...  \n",
       "195                     None    2021-08-08  \n",
       "196                     None    2021-08-08  \n",
       "197                     None    2021-08-08  \n",
       "198                     None    2021-08-08  \n",
       "199                     None    2021-08-08  \n",
       "\n",
       "[156400 rows x 14 columns]"
      ]
     },
     "execution_count": 25,
     "metadata": {},
     "output_type": "execute_result"
    }
   ],
   "source": [
    "all_items = []\n",
    "\n",
    "main_df = pd.DataFrame()\n",
    "\n",
    "for i in range(0,782):\n",
    "    url = 'https://api.pdga.com/services/json/players'\n",
    "    offset = i * 200\n",
    "    params = {'country':['US'],'limit':[200],'offset':[offset]}\n",
    "    response = requests.get(url, headers=headers, params=params).json()\n",
    "    all_items.append(response)\n",
    "    df = pd.json_normalize(response['players'])\n",
    "    main_df = main_df.append(df)\n",
    "main_df"
   ]
  },
  {
   "cell_type": "code",
   "execution_count": 26,
   "metadata": {},
   "outputs": [],
   "source": [
    "main_df.to_csv(r'C:\\Users\\micha\\Desktop\\NSS School Folder\\Python_for_analytics\\projects\\PDGA_Course_Analysis\\data\\players_df.csv', index=False)"
   ]
  },
  {
   "cell_type": "code",
   "execution_count": null,
   "metadata": {},
   "outputs": [],
   "source": []
  }
 ],
 "metadata": {
  "kernelspec": {
   "display_name": "Python 3 (ipykernel)",
   "language": "python",
   "name": "python3"
  },
  "language_info": {
   "codemirror_mode": {
    "name": "ipython",
    "version": 3
   },
   "file_extension": ".py",
   "mimetype": "text/x-python",
   "name": "python",
   "nbconvert_exporter": "python",
   "pygments_lexer": "ipython3",
   "version": "3.8.5"
  }
 },
 "nbformat": 4,
 "nbformat_minor": 4
}
